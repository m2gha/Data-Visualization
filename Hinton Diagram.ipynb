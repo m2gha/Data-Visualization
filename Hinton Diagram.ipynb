{
 "cells": [
  {
   "cell_type": "code",
   "execution_count": 2,
   "metadata": {},
   "outputs": [
    {
     "data": {
      "image/png": "[encoded data removed]",
      "text/plain": [
       "<Figure size 432x288 with 1 Axes>"
      ]
     },
     "metadata": {},
     "output_type": "display_data"
    }
   ],
   "source": [
    "#The Hinton Diagram\n",
    "import numpy as np\n",
    "import matplotlib.pyplot as plt\n",
    "import pandas as pd\n",
    "\n",
    "matrix=np.asarray((pd.read_excel('weight_matrix.xlsx')))\n",
    "fig,ax=plt.subplots()\n",
    "\n",
    "max_weight=2**np.ceil(np.log(np.abs(matrix).max())/np.log(2))\n",
    "\n",
    "ax.patch.set_facecolor('gray')\n",
    "ax.set_aspect('equal','box')\n",
    "ax.xaxis.set_major_locator(plt.NullLocator())\n",
    "ax.yaxis.set_major_locator(plt.NullLocator())\n",
    "\n",
    "for(x,y),w in np.ndenumerate(matrix):\n",
    "    color='red' if w>0 else 'green'\n",
    "    size=np.sqrt(np.abs(w)/max_weight)\n",
    "    rect=plt.Rectangle([x-size/2,y-size/2],size,size,facecolor=color,edgecolor=color)\n",
    "    \n",
    "    ax.add_patch(rect)\n",
    "    \n",
    "ax.autoscale_view()\n",
    "\n",
    "plt.show()"
   ]
  },
  {
   "cell_type": "code",
   "execution_count": null,
   "metadata": {},
   "outputs": [],
   "source": []
  }
 ],
 "metadata": {
  "kernelspec": {
   "display_name": "Python 3",
   "language": "python",
   "name": "python3"
  },
  "language_info": {
   "codemirror_mode": {
    "name": "ipython",
    "version": 3
   },
   "file_extension": ".py",
   "mimetype": "text/x-python",
   "name": "python",
   "nbconvert_exporter": "python",
   "pygments_lexer": "ipython3",
   "version": "3.6.5"
  }
 },
 "nbformat": 4,
 "nbformat_minor": 2
}
